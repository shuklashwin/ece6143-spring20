{
  "nbformat": 4,
  "nbformat_minor": 0,
  "metadata": {
    "colab": {
      "name": "contours.ipynb",
      "provenance": []
    },
    "kernelspec": {
      "name": "python3",
      "display_name": "Python 3"
    }
  },
  "cells": [
    {
      "cell_type": "code",
      "metadata": {
        "id": "FJSvdkcl3bFl",
        "colab_type": "code",
        "outputId": "afa25269-165f-4149-d3d0-2ffbc1238b0c",
        "colab": {
          "base_uri": "https://localhost:8080/",
          "height": 388
        }
      },
      "source": [
        "%matplotlib inline\n",
        "import numpy as np\n",
        "import matplotlib.pyplot as plt\n",
        "plt.style.use('seaborn-white')\n",
        "\n",
        "def f(x,y,alpha,p):\n",
        "  return (x-1)**2 + (y-2)**2 + alpha*(abs(x)**p + abs(y)**p)\n",
        "\n",
        "x = np.linspace(-5,5,100)\n",
        "y = np.linspace(-5,5,100)\n",
        "X, Y = np.meshgrid(x,y)\n",
        "alpha = 6\n",
        "p = 2\n",
        "Z = f(X,Y,alpha,p)\n",
        "\n",
        "plt.figure(figsize=(6,6))\n",
        "plt.contourf(X,Y,Z,20,cmap='coolwarm')"
      ],
      "execution_count": 2,
      "outputs": [
        {
          "output_type": "execute_result",
          "data": {
            "text/plain": [
              "<matplotlib.contour.QuadContourSet at 0x7f72f8252f28>"
            ]
          },
          "metadata": {
            "tags": []
          },
          "execution_count": 2
        },
        {
          "output_type": "display_data",
          "data": {
            "image/png": "[encoded data removed]",
            "text/plain": [
              "<Figure size 432x432 with 1 Axes>"
            ]
          },
          "metadata": {
            "tags": []
          }
        }
      ]
    },
    {
      "cell_type": "code",
      "metadata": {
        "id": "7IJJ2CXk2JUa",
        "colab_type": "code",
        "colab": {
          "base_uri": "https://localhost:8080/",
          "height": 388
        },
        "outputId": "38f6299e-8475-45f0-8bda-35648f13e272"
      },
      "source": [
        "alpha = 6\n",
        "p = 439\n",
        "Z = f(X,Y,alpha,p)\n",
        "\n",
        "plt.figure(figsize=(6,6))\n",
        "plt.contourf(X,Y,Z,20,cmap='coolwarm')"
      ],
      "execution_count": 43,
      "outputs": [
        {
          "output_type": "execute_result",
          "data": {
            "text/plain": [
              "<matplotlib.contour.QuadContourSet at 0x7f72f65544a8>"
            ]
          },
          "metadata": {
            "tags": []
          },
          "execution_count": 43
        },
        {
          "output_type": "display_data",
          "data": {
            "image/png": "[encoded data removed]",
            "text/plain": [
              "<Figure size 432x432 with 1 Axes>"
            ]
          },
          "metadata": {
            "tags": []
          }
        }
      ]
    },
    {
      "cell_type": "code",
      "metadata": {
        "id": "0naWK-aJ2K1D",
        "colab_type": "code",
        "colab": {}
      },
      "source": [
        ""
      ],
      "execution_count": 0,
      "outputs": []
    }
  ]
}